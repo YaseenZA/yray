{
 "cells": [
  {
   "cell_type": "code",
   "execution_count": 1,
   "metadata": {},
   "outputs": [
    {
     "name": "stdout",
     "output_type": "stream",
     "text": [
      "The Accuracy is 0.76450515\n"
     ]
    }
   ],
   "source": [
    "import pprint, pickle\n",
    "from tensorflow.keras.models import load_model\n",
    "from tensorflow.keras.metrics import Accuracy\n",
    "import numpy as np\n",
    "\n",
    "pkl_file = open('data.pkl', 'rb')\n",
    "X_test_norm = pickle.load(pkl_file)\n",
    "pkl_file.close()\n",
    "\n",
    "y_test_cat = np.load('y_test_cat.npy')\n",
    "\n",
    "myModel = load_model('pneu')\n",
    "predictions2 = myModel.predict(X_test_norm)\n",
    "\n",
    "m = Accuracy()\n",
    "m.update_state(y_test_cat, np.round(predictions2))\n",
    "print('The Accuracy is', m.result().numpy())"
   ]
  },
  {
   "cell_type": "code",
   "execution_count": null,
   "metadata": {},
   "outputs": [],
   "source": []
  }
 ],
 "metadata": {
  "kernelspec": {
   "display_name": "Python 3",
   "language": "python",
   "name": "python3"
  },
  "language_info": {
   "codemirror_mode": {
    "name": "ipython",
    "version": 3
   },
   "file_extension": ".py",
   "mimetype": "text/x-python",
   "name": "python",
   "nbconvert_exporter": "python",
   "pygments_lexer": "ipython3",
   "version": "3.8.5"
  }
 },
 "nbformat": 4,
 "nbformat_minor": 4
}
